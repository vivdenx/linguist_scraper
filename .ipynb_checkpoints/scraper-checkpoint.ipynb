{
 "cells": [
  {
   "cell_type": "code",
   "execution_count": 65,
   "metadata": {},
   "outputs": [
    {
     "name": "stdout",
     "output_type": "stream",
     "text": [
      "env: LI_AT_COOKIE=AQEDASsuNPgBOaSGAAABgT9_tJ4AAAGBY4w4nlYAKkyH3eTveM8lgqDT_TmzsH8lWb6iyoPbb5TNlKuOLc6LpKGtw7fw_58mG6MN5uxiNqVrhSCL8nmBILlBcLbC2tzgd99zKyiBt2SISLDGPV4Fk1gH\n"
     ]
    }
   ],
   "source": [
    "%env LI_AT_COOKIE=AQEDASsuNPgBOaSGAAABgT9_tJ4AAAGBY4w4nlYAKkyH3eTveM8lgqDT_TmzsH8lWb6iyoPbb5TNlKuOLc6LpKGtw7fw_58mG6MN5uxiNqVrhSCL8nmBILlBcLbC2tzgd99zKyiBt2SISLDGPV4Fk1gH"
   ]
  },
  {
   "cell_type": "code",
   "execution_count": null,
   "metadata": {},
   "outputs": [],
   "source": []
  },
  {
   "cell_type": "code",
   "execution_count": null,
   "metadata": {},
   "outputs": [
    {
     "name": "stderr",
     "output_type": "stream",
     "text": [
      "INFO:li:scraper:('Using strategy AnonymousStrategy',)\n",
      "WARNING:li:scraper:(\"AnonymousStrategy is no longer maintained and it won't probably work. It is recommended to use an authenticated session, see documentation at https://github.com/spinlud/py-linkedin-jobs-scraper#anonymous-vs-authenticated-session.\",)\n",
      "INFO:li:scraper:('Starting new query', \"Query(query=Linguist options=QueryOptions(limit=5 locations=['Worldwide'] filters=QueryFilters(relevance=RelevanceFilters.RECENT time=TimeFilters.MONTH type=[<TypeFilters.FULL_TIME: 'F'>, <TypeFilters.INTERNSHIP: 'I'>]) optimize=False apply_link=False))\")\n",
      "INFO:li:scraper:('[Linguist][Worldwide]', 'Opening https://www.linkedin.com/jobs/search?keywords=Linguist&location=Worldwide&sortBy=DD&f_TPR=r2592000&f_JT=F%2CI')\n",
      "INFO:li:scraper:('[Linguist][Worldwide]', 'Trying first selectors set')\n",
      "INFO:li:scraper:('[Linguist][Worldwide]', 'Trying second selectors set')\n",
      "INFO:li:scraper:('[Linguist][Worldwide]', 'OK')\n",
      "INFO:li:scraper:('[Linguist][Worldwide]', 'Starting pagination loop')\n",
      "INFO:li:scraper:('[Linguist][Worldwide]', 'Found 25 jobs')\n",
      "ERROR:li:scraper:('[Linguist][Worldwide][1]', JavascriptException(\"javascript error: Cannot read properties of null (reading 'scrollIntoView')\\n  (Session info: headless chrome=102.0.5005.63)\", None, ['Backtrace:', '\\tOrdinal0 [0x0086D953+2414931]', '\\tOrdinal0 [0x007FF5E1+1963489]', '\\tOrdinal0 [0x006EC6B8+837304]', '\\tOrdinal0 [0x006EF0B4+848052]', '\\tOrdinal0 [0x006EEF72+847730]', '\\tOrdinal0 [0x006EF8EA+850154]', '\\tOrdinal0 [0x00745249+1200713]', '\\tOrdinal0 [0x0073449C+1131676]', '\\tOrdinal0 [0x00744812+1198098]', '\\tOrdinal0 [0x007342B6+1131190]', '\\tOrdinal0 [0x0070E860+976992]', '\\tOrdinal0 [0x0070F756+980822]', '\\tGetHandleVerifier [0x00ADCC62+2510274]', '\\tGetHandleVerifier [0x00ACF760+2455744]', '\\tGetHandleVerifier [0x008FEABA+551962]', '\\tGetHandleVerifier [0x008FD916+547446]', '\\tOrdinal0 [0x00805F3B+1990459]', '\\tOrdinal0 [0x0080A898+2009240]', '\\tOrdinal0 [0x0080A985+2009477]', '\\tOrdinal0 [0x00813AD1+2046673]', '\\tBaseThreadInitThunk [0x75F1FA29+25]', '\\tRtlGetAppContainerNamedObjectP...\n",
      "Traceback (most recent call last):\n",
      "  File \"C:\\Users\\Windows 10\\anaconda3\\lib\\site-packages\\linkedin_jobs_scraper\\strategies\\anonymous_strategy.py\", line 294, in run\n",
      "    selectors.dates)\n",
      "  File \"C:\\Users\\Windows 10\\anaconda3\\lib\\site-packages\\selenium\\webdriver\\remote\\webdriver.py\", line 886, in execute_script\n",
      "    'args': converted_args})['value']\n",
      "  File \"C:\\Users\\Windows 10\\anaconda3\\lib\\site-packages\\selenium\\webdriver\\remote\\webdriver.py\", line 430, in execute\n",
      "    self.error_handler.check_response(response)\n",
      "  File \"C:\\Users\\Windows 10\\anaconda3\\lib\\site-packages\\selenium\\webdriver\\remote\\errorhandler.py\", line 247, in check_response\n",
      "    raise exception_class(message, screen, stacktrace)\n",
      "selenium.common.exceptions.JavascriptException: Message: javascript error: Cannot read properties of null (reading 'scrollIntoView')\n",
      "  (Session info: headless chrome=102.0.5005.63)\n",
      "Stacktrace:\n",
      "Backtrace:\n",
      "\tOrdinal0 [0x0086D953+2414931]\n",
      "\tOrdinal0 [0x007FF5E1+1963489]\n",
      "\tOrdinal0 [0x006EC6B8+837304]\n",
      "\tOrdinal0 [0x006EF0B4+848052]\n",
      "\tOrdinal0 [0x006EEF72+847730]\n",
      "\tOrdinal0 [0x006EF8EA+850154]\n",
      "\tOrdinal0 [0x00745249+1200713]\n",
      "\tOrdinal0 [0x0073449C+1131676]\n",
      "\tOrdinal0 [0x00744812+1198098]\n",
      "\tOrdinal0 [0x007342B6+1131190]\n",
      "\tOrdinal0 [0x0070E860+976992]\n",
      "\tOrdinal0 [0x0070F756+980822]\n",
      "\tGetHandleVerifier [0x00ADCC62+2510274]\n",
      "\tGetHandleVerifier [0x00ACF760+2455744]\n",
      "\tGetHandleVerifier [0x008FEABA+551962]\n",
      "\tGetHandleVerifier [0x008FD916+547446]\n",
      "\tOrdinal0 [0x00805F3B+1990459]\n",
      "\tOrdinal0 [0x0080A898+2009240]\n",
      "\tOrdinal0 [0x0080A985+2009477]\n",
      "\tOrdinal0 [0x00813AD1+2046673]\n",
      "\tBaseThreadInitThunk [0x75F1FA29+25]\n",
      "\tRtlGetAppContainerNamedObjectPath [0x770F7A7E+286]\n",
      "\tRtlGetAppContainerNamedObjectPath [0x770F7A4E+238]\n",
      "\n"
     ]
    },
    {
     "name": "stdout",
     "output_type": "stream",
     "text": [
      "[ON_ERROR] Message: javascript error: Cannot read properties of null (reading 'scrollIntoView')\n",
      "  (Session info: headless chrome=102.0.5005.63)\n",
      "Stacktrace:\n",
      "Backtrace:\n",
      "\tOrdinal0 [0x0086D953+2414931]\n",
      "\tOrdinal0 [0x007FF5E1+1963489]\n",
      "\tOrdinal0 [0x006EC6B8+837304]\n",
      "\tOrdinal0 [0x006EF0B4+848052]\n",
      "\tOrdinal0 [0x006EEF72+847730]\n",
      "\tOrdinal0 [0x006EF8EA+850154]\n",
      "\tOrdinal0 [0x00745249+1200713]\n",
      "\tOrdinal0 [0x0073449C+1131676]\n",
      "\tOrdinal0 [0x00744812+1198098]\n",
      "\tOrdinal0 [0x007342B6+1131190]\n",
      "\tOrdinal0 [0x0070E860+976992]\n",
      "\tOrdinal0 [0x0070F756+980822]\n",
      "\tGetHandleVerifier [0x00ADCC62+2510274]\n",
      "\tGetHandleVerifier [0x00ACF760+2455744]\n",
      "\tGetHandleVerifier [0x008FEABA+551962]\n",
      "\tGetHandleVerifier [0x008FD916+547446]\n",
      "\tOrdinal0 [0x00805F3B+1990459]\n",
      "\tOrdinal0 [0x0080A898+2009240]\n",
      "\tOrdinal0 [0x0080A985+2009477]\n",
      "\tOrdinal0 [0x00813AD1+2046673]\n",
      "\tBaseThreadInitThunk [0x75F1FA29+25]\n",
      "\tRtlGetAppContainerNamedObjectPath [0x770F7A7E+286]\n",
      "\tRtlGetAppContainerNamedObjectPath [0x770F7A4E+238]\n",
      "\n",
      "Traceback (most recent call last):\n",
      "  File \"C:\\Users\\Windows 10\\anaconda3\\lib\\site-packages\\linkedin_jobs_scraper\\strategies\\anonymous_strategy.py\", line 294, in run\n",
      "    selectors.dates)\n",
      "  File \"C:\\Users\\Windows 10\\anaconda3\\lib\\site-packages\\selenium\\webdriver\\remote\\webdriver.py\", line 886, in execute_script\n",
      "    'args': converted_args})['value']\n",
      "  File \"C:\\Users\\Windows 10\\anaconda3\\lib\\site-packages\\selenium\\webdriver\\remote\\webdriver.py\", line 430, in execute\n",
      "    self.error_handler.check_response(response)\n",
      "  File \"C:\\Users\\Windows 10\\anaconda3\\lib\\site-packages\\selenium\\webdriver\\remote\\errorhandler.py\", line 247, in check_response\n",
      "    raise exception_class(message, screen, stacktrace)\n",
      "selenium.common.exceptions.JavascriptException: Message: javascript error: Cannot read properties of null (reading 'scrollIntoView')\n",
      "  (Session info: headless chrome=102.0.5005.63)\n",
      "Stacktrace:\n",
      "Backtrace:\n",
      "\tOrdinal0 [0x0086D953+2414931]\n",
      "\tOrdinal0 [0x007FF5E1+1963489]\n",
      "\tOrdinal0 [0x006EC6B8+837304]\n",
      "\tOrdinal0 [0x006EF0B4+848052]\n",
      "\tOrdinal0 [0x006EEF72+847730]\n",
      "\tOrdinal0 [0x006EF8EA+850154]\n",
      "\tOrdinal0 [0x00745249+1200713]\n",
      "\tOrdinal0 [0x0073449C+1131676]\n",
      "\tOrdinal0 [0x00744812+1198098]\n",
      "\tOrdinal0 [0x007342B6+1131190]\n",
      "\tOrdinal0 [0x0070E860+976992]\n",
      "\tOrdinal0 [0x0070F756+980822]\n",
      "\tGetHandleVerifier [0x00ADCC62+2510274]\n",
      "\tGetHandleVerifier [0x00ACF760+2455744]\n",
      "\tGetHandleVerifier [0x008FEABA+551962]\n",
      "\tGetHandleVerifier [0x008FD916+547446]\n",
      "\tOrdinal0 [0x00805F3B+1990459]\n",
      "\tOrdinal0 [0x0080A898+2009240]\n",
      "\tOrdinal0 [0x0080A985+2009477]\n",
      "\tOrdinal0 [0x00813AD1+2046673]\n",
      "\tBaseThreadInitThunk [0x75F1FA29+25]\n",
      "\tRtlGetAppContainerNamedObjectPath [0x770F7A7E+286]\n",
      "\tRtlGetAppContainerNamedObjectPath [0x770F7A4E+238]\n",
      "\n",
      "\n"
     ]
    },
    {
     "name": "stderr",
     "output_type": "stream",
     "text": [
      "INFO:li:scraper:('[Linguist][Worldwide][1]', 'Processed')\n"
     ]
    },
    {
     "name": "stdout",
     "output_type": "stream",
     "text": [
      "[ON_DATA] Linguist Wholemeaning  2022-05-20 https://cl.linkedin.com/jobs/view/linguist-at-wholemeaning-3084140905?refId=ZChObg1yE88WeevVlPMFQw%3D%3D&trackingId=Am1aLQBCFmWYjrePyIRxKg%3D%3D&position=2&pageNum=0&trk=public_jobs_jserp-result_search-card [] 2860\n"
     ]
    },
    {
     "name": "stderr",
     "output_type": "stream",
     "text": [
      "INFO:li:scraper:('[Linguist][Worldwide][2]', 'Processed')\n"
     ]
    },
    {
     "name": "stdout",
     "output_type": "stream",
     "text": [
      "[ON_DATA] Brazilian Portuguese Data Linguist-II Amazon  2022-05-30 https://www.linkedin.com/jobs/view/brazilian-portuguese-data-linguist-ii-at-amazon-3024136454?refId=ZChObg1yE88WeevVlPMFQw%3D%3D&trackingId=fnUlYm3eQdt9fsTZ2KHa0A%3D%3D&position=3&pageNum=0&trk=public_jobs_jserp-result_search-card [] 2373\n"
     ]
    },
    {
     "name": "stderr",
     "output_type": "stream",
     "text": [
      "INFO:li:scraper:('[Linguist][Worldwide][3]', 'Processed')\n"
     ]
    },
    {
     "name": "stdout",
     "output_type": "stream",
     "text": [
      "[ON_DATA] Arabic Linguist General Dynamics Information Technology  2022-06-07 https://www.linkedin.com/jobs/view/arabic-linguist-at-general-dynamics-information-technology-3114119898?refId=ZChObg1yE88WeevVlPMFQw%3D%3D&trackingId=eBVuftMT1DMlZYpt6G9fbg%3D%3D&position=4&pageNum=0&trk=public_jobs_jserp-result_search-card [] 2815\n"
     ]
    },
    {
     "name": "stderr",
     "output_type": "stream",
     "text": [
      "INFO:li:scraper:('[Linguist][Worldwide][4]', 'Processed')\n"
     ]
    },
    {
     "name": "stdout",
     "output_type": "stream",
     "text": [
      "[ON_DATA] Linguist, Kids and Family, Ads Google  2022-05-16 https://www.linkedin.com/jobs/view/linguist-kids-and-family-ads-at-google-3119912071?refId=ZChObg1yE88WeevVlPMFQw%3D%3D&trackingId=G%2Bkjx8GL0%2BtF8exdLhwRzA%3D%3D&position=5&pageNum=0&trk=public_jobs_jserp-result_search-card [] 2783\n"
     ]
    }
   ],
   "source": [
    "import logging\n",
    "from linkedin_jobs_scraper import LinkedinScraper\n",
    "from linkedin_jobs_scraper.events import Events, EventData\n",
    "from linkedin_jobs_scraper.query import Query, QueryOptions, QueryFilters\n",
    "from linkedin_jobs_scraper.filters import RelevanceFilters, TimeFilters, TypeFilters, ExperienceLevelFilters, RemoteFilters\n",
    "\n",
    "# Change root logger level (default is WARN)\n",
    "logging.basicConfig(level = logging.INFO)\n",
    "\n",
    "def on_data(data: EventData):\n",
    "    print('[ON_DATA]', data.title, data.company, data.company_link, data.date, data.link, data.insights, len(data.description))\n",
    "\n",
    "def on_error(error):\n",
    "    print('[ON_ERROR]', error)\n",
    "\n",
    "def on_end():\n",
    "    print('[ON_END]')\n",
    "\n",
    "scraper = LinkedinScraper(\n",
    "    chrome_executable_path='./chromedriver.exe', # Custom Chrome executable path (e.g. /foo/bar/bin/chromedriver) \n",
    "    chrome_options=None,  # Custom Chrome options here\n",
    "    headless=True,  # Overrides headless mode only if chrome_options is None\n",
    "    max_workers=1,  # How many threads will be spawned to run queries concurrently (one Chrome driver for each thread)\n",
    "    slow_mo=1,  # Slow down the scraper to avoid 'Too many requests 429' errors (in seconds)\n",
    ")\n",
    "\n",
    "# Add event listeners\n",
    "scraper.on(Events.DATA, on_data)\n",
    "scraper.on(Events.ERROR, on_error)\n",
    "scraper.on(Events.END, on_end)\n",
    "\n",
    "queries = [\n",
    "    Query(\n",
    "        query='Linguist',\n",
    "        options=QueryOptions(\n",
    "            #locations=['Netherlands'],\n",
    "            optimize=False,\n",
    "            apply_link = False,  # Try to extract apply link (slower because it needs to open a new tab for each job). Default to false\n",
    "            limit=5,\n",
    "            filters=QueryFilters(              \n",
    "                #company_jobs_url='https://www.linkedin.com/jobs/search/?f_C=1441%2C17876832%2C791962%2C2374003%2C18950635%2C16140%2C10440912&geoId=92000000',  # Filter by companies\n",
    "                relevance=RelevanceFilters.RECENT,\n",
    "                time=TimeFilters.MONTH,\n",
    "                type=[TypeFilters.FULL_TIME, TypeFilters.INTERNSHIP],\n",
    "                experience=None,                \n",
    "            )\n",
    "        )\n",
    "    ),\n",
    "]\n",
    "\n",
    "scraper.run(queries)"
   ]
  },
  {
   "cell_type": "code",
   "execution_count": null,
   "metadata": {},
   "outputs": [],
   "source": []
  },
  {
   "cell_type": "code",
   "execution_count": null,
   "metadata": {},
   "outputs": [],
   "source": []
  },
  {
   "cell_type": "code",
   "execution_count": null,
   "metadata": {},
   "outputs": [],
   "source": []
  },
  {
   "cell_type": "code",
   "execution_count": null,
   "metadata": {},
   "outputs": [],
   "source": []
  },
  {
   "cell_type": "code",
   "execution_count": null,
   "metadata": {},
   "outputs": [],
   "source": []
  },
  {
   "cell_type": "code",
   "execution_count": null,
   "metadata": {},
   "outputs": [],
   "source": []
  },
  {
   "cell_type": "code",
   "execution_count": null,
   "metadata": {},
   "outputs": [],
   "source": []
  }
 ],
 "metadata": {
  "kernelspec": {
   "display_name": "Python 3",
   "language": "python",
   "name": "python3"
  },
  "language_info": {
   "codemirror_mode": {
    "name": "ipython",
    "version": 3
   },
   "file_extension": ".py",
   "mimetype": "text/x-python",
   "name": "python",
   "nbconvert_exporter": "python",
   "pygments_lexer": "ipython3",
   "version": "3.7.6"
  }
 },
 "nbformat": 4,
 "nbformat_minor": 4
}
