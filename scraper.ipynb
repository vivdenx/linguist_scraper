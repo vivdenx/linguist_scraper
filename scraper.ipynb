{
 "cells": [
  {
   "cell_type": "code",
   "execution_count": 65,
   "metadata": {},
   "outputs": [
    {
     "name": "stdout",
     "output_type": "stream",
     "text": [
      "env: LI_AT_COOKIE=AQEDASsuNPgBOaSGAAABgT9_tJ4AAAGBY4w4nlYAKkyH3eTveM8lgqDT_TmzsH8lWb6iyoPbb5TNlKuOLc6LpKGtw7fw_58mG6MN5uxiNqVrhSCL8nmBILlBcLbC2tzgd99zKyiBt2SISLDGPV4Fk1gH\n"
     ]
    }
   ],
   "source": [
    "%env LI_AT_COOKIE=AQEDASsuNPgBOaSGAAABgT9_tJ4AAAGBY4w4nlYAKkyH3eTveM8lgqDT_TmzsH8lWb6iyoPbb5TNlKuOLc6LpKGtw7fw_58mG6MN5uxiNqVrhSCL8nmBILlBcLbC2tzgd99zKyiBt2SISLDGPV4Fk1gH"
   ]
  },
  {
   "cell_type": "code",
   "execution_count": null,
   "metadata": {},
   "outputs": [],
   "source": []
  },
  {
   "cell_type": "code",
   "execution_count": 33,
   "metadata": {},
   "outputs": [
    {
     "name": "stderr",
     "output_type": "stream",
     "text": [
      "INFO:li:scraper:('Using strategy AnonymousStrategy',)\n",
      "WARNING:li:scraper:(\"AnonymousStrategy is no longer maintained and it won't probably work. It is recommended to use an authenticated session, see documentation at https://github.com/spinlud/py-linkedin-jobs-scraper#anonymous-vs-authenticated-session.\",)\n",
      "INFO:li:scraper:('Starting new query', \"Query(query=Linguist options=QueryOptions(limit=25 locations=['Worldwide'] filters=QueryFilters(relevance=RelevanceFilters.RECENT time=TimeFilters.MONTH) optimize=False apply_link=True))\")\n",
      "INFO:li:scraper:('[Linguist][Worldwide]', 'Opening https://www.linkedin.com/jobs/search?keywords=Linguist&location=Worldwide&sortBy=DD&f_TPR=r2592000')\n",
      "INFO:li:scraper:('[Linguist][Worldwide]', 'Trying first selectors set')\n",
      "INFO:li:scraper:('[Linguist][Worldwide]', 'Trying second selectors set')\n",
      "INFO:li:scraper:('[Linguist][Worldwide]', 'OK')\n",
      "INFO:li:scraper:('[Linguist][Worldwide]', 'Starting pagination loop')\n",
      "INFO:li:scraper:('[Linguist][Worldwide]', 'Found 25 jobs')\n",
      "INFO:li:scraper:('[Linguist][Worldwide][1]', 'Processed')\n"
     ]
    },
    {
     "name": "stdout",
     "output_type": "stream",
     "text": [
      "[ON_DATA] Japanese Language Manager PERSOL CAREER BRS (Bilingual Recruitment Solutions)  2022-05-16 https://jp.linkedin.com/jobs/view/japanese-language-manager-at-%E3%83%91%E3%83%BC%E3%82%BD%E3%83%AB%E3%82%AD%E3%83%A3%E3%83%AA%E3%82%A2%E6%A0%AA%E5%BC%8F%E4%BC%9A%E7%A4%BE-brs-3121512462?refId=OuHBwOojc0%2FyMDwpdecLIg%3D%3D&trackingId=hgelMoLv8pbjvSpmRnPXew%3D%3D&position=1&pageNum=0&trk=public_jobs_jserp-result_search-card [] 851\n"
     ]
    },
    {
     "name": "stderr",
     "output_type": "stream",
     "text": [
      "INFO:li:scraper:('[Linguist][Worldwide][2]', 'Processed')\n"
     ]
    },
    {
     "name": "stdout",
     "output_type": "stream",
     "text": [
      "[ON_DATA] Lead Product Owner Apex Systems  2022-05-24 https://www.linkedin.com/jobs/view/lead-product-owner-at-apex-systems-3089242343?refId=OuHBwOojc0%2FyMDwpdecLIg%3D%3D&trackingId=K0ZbZwSW1vxib2%2BlNzUZiQ%3D%3D&position=2&pageNum=0&trk=public_jobs_jserp-result_search-card [] 4079\n"
     ]
    },
    {
     "name": "stderr",
     "output_type": "stream",
     "text": [
      "INFO:li:scraper:('[Linguist][Worldwide][3]', 'Processed')\n"
     ]
    },
    {
     "name": "stdout",
     "output_type": "stream",
     "text": [
      "[ON_DATA] Public Affairs Support Manager (Language Services) The Hong Kong Jockey Club  2022-05-26 https://hk.linkedin.com/jobs/view/public-affairs-support-manager-language-services-at-the-hong-kong-jockey-club-3114148372?refId=OuHBwOojc0%2FyMDwpdecLIg%3D%3D&trackingId=AsgXlEsBaN1KQ65Riq2nEw%3D%3D&position=3&pageNum=0&trk=public_jobs_jserp-result_search-card [] 942\n"
     ]
    },
    {
     "name": "stderr",
     "output_type": "stream",
     "text": [
      "INFO:li:scraper:('[Linguist][Worldwide][4]', 'Processed')\n"
     ]
    },
    {
     "name": "stdout",
     "output_type": "stream",
     "text": [
      "[ON_DATA] INTEL Group Hiring Event Leidos  2022-06-03 https://www.linkedin.com/jobs/view/intel-group-hiring-event-at-leidos-3109117530?refId=OuHBwOojc0%2FyMDwpdecLIg%3D%3D&trackingId=SFdGHSHDDboIPuoKqpD0IQ%3D%3D&position=4&pageNum=0&trk=public_jobs_jserp-result_search-card [] 2030\n"
     ]
    },
    {
     "name": "stderr",
     "output_type": "stream",
     "text": [
      "INFO:li:scraper:('[Linguist][Worldwide][5]', 'Processed')\n"
     ]
    },
    {
     "name": "stdout",
     "output_type": "stream",
     "text": [
      "[ON_DATA] Business Planning Analyst (Japanese language Requirement) (Contract) Honda of America Mfg., Inc.  2022-06-03 https://www.linkedin.com/jobs/view/business-planning-analyst-japanese-language-requirement-contract-at-honda-of-america-mfg-inc-3109521317?refId=OuHBwOojc0%2FyMDwpdecLIg%3D%3D&trackingId=zUVaPKPeuzLa24kuwVvRrg%3D%3D&position=5&pageNum=0&trk=public_jobs_jserp-result_search-card [] 3417\n"
     ]
    },
    {
     "name": "stderr",
     "output_type": "stream",
     "text": [
      "INFO:li:scraper:('[Linguist][Worldwide][6]', 'Processed')\n"
     ]
    },
    {
     "name": "stdout",
     "output_type": "stream",
     "text": [
      "[ON_DATA] Pashto and Dari Linguist with Security Clearance ClearanceJobs  2022-06-07 https://www.linkedin.com/jobs/view/pashto-and-dari-linguist-with-security-clearance-at-clearancejobs-3115320261?refId=OuHBwOojc0%2FyMDwpdecLIg%3D%3D&trackingId=CxDee%2BCij8ysKPUHPtFOXA%3D%3D&position=6&pageNum=0&trk=public_jobs_jserp-result_search-card [] 2265\n"
     ]
    },
    {
     "name": "stderr",
     "output_type": "stream",
     "text": [
      "INFO:li:scraper:('[Linguist][Worldwide][7]', 'Processed')\n"
     ]
    },
    {
     "name": "stdout",
     "output_type": "stream",
     "text": [
      "[ON_DATA] Volunteer: BLOOD SERVICES: SPANISH INTERPRETER/TRANSLATOR volunteer for Norfolk County VolunteerMatch  2022-05-15 https://www.linkedin.com/jobs/view/volunteer-blood-services-spanish-interpreter-translator-volunteer-for-norfolk-county-at-volunteermatch-3119257002?refId=OuHBwOojc0%2FyMDwpdecLIg%3D%3D&trackingId=z7pgXtb7%2BKFYUdsFyt8CVg%3D%3D&position=7&pageNum=0&trk=public_jobs_jserp-result_search-card [] 1888\n"
     ]
    },
    {
     "name": "stderr",
     "output_type": "stream",
     "text": [
      "ERROR:li:scraper:('[Linguist][Worldwide][8]', JavascriptException(\"javascript error: Cannot read properties of null (reading 'scrollIntoView')\\n  (Session info: headless chrome=102.0.5005.63)\", None, ['Backtrace:', '\\tOrdinal0 [0x0086D953+2414931]', '\\tOrdinal0 [0x007FF5E1+1963489]', '\\tOrdinal0 [0x006EC6B8+837304]', '\\tOrdinal0 [0x006EF0B4+848052]', '\\tOrdinal0 [0x006EEF72+847730]', '\\tOrdinal0 [0x006EF8EA+850154]', '\\tOrdinal0 [0x00745249+1200713]', '\\tOrdinal0 [0x0073449C+1131676]', '\\tOrdinal0 [0x00744812+1198098]', '\\tOrdinal0 [0x007342B6+1131190]', '\\tOrdinal0 [0x0070E860+976992]', '\\tOrdinal0 [0x0070F756+980822]', '\\tGetHandleVerifier [0x00ADCC62+2510274]', '\\tGetHandleVerifier [0x00ACF760+2455744]', '\\tGetHandleVerifier [0x008FEABA+551962]', '\\tGetHandleVerifier [0x008FD916+547446]', '\\tOrdinal0 [0x00805F3B+1990459]', '\\tOrdinal0 [0x0080A898+2009240]', '\\tOrdinal0 [0x0080A985+2009477]', '\\tOrdinal0 [0x00813AD1+2046673]', '\\tBaseThreadInitThunk [0x75F1FA29+25]', '\\tRtlGetAppContainerNamedObjectP...\n",
      "Traceback (most recent call last):\n",
      "  File \"C:\\Users\\Windows 10\\anaconda3\\lib\\site-packages\\linkedin_jobs_scraper\\strategies\\anonymous_strategy.py\", line 294, in run\n",
      "    selectors.dates)\n",
      "  File \"C:\\Users\\Windows 10\\anaconda3\\lib\\site-packages\\selenium\\webdriver\\remote\\webdriver.py\", line 886, in execute_script\n",
      "    'args': converted_args})['value']\n",
      "  File \"C:\\Users\\Windows 10\\anaconda3\\lib\\site-packages\\selenium\\webdriver\\remote\\webdriver.py\", line 430, in execute\n",
      "    self.error_handler.check_response(response)\n",
      "  File \"C:\\Users\\Windows 10\\anaconda3\\lib\\site-packages\\selenium\\webdriver\\remote\\errorhandler.py\", line 247, in check_response\n",
      "    raise exception_class(message, screen, stacktrace)\n",
      "selenium.common.exceptions.JavascriptException: Message: javascript error: Cannot read properties of null (reading 'scrollIntoView')\n",
      "  (Session info: headless chrome=102.0.5005.63)\n",
      "Stacktrace:\n",
      "Backtrace:\n",
      "\tOrdinal0 [0x0086D953+2414931]\n",
      "\tOrdinal0 [0x007FF5E1+1963489]\n",
      "\tOrdinal0 [0x006EC6B8+837304]\n",
      "\tOrdinal0 [0x006EF0B4+848052]\n",
      "\tOrdinal0 [0x006EEF72+847730]\n",
      "\tOrdinal0 [0x006EF8EA+850154]\n",
      "\tOrdinal0 [0x00745249+1200713]\n",
      "\tOrdinal0 [0x0073449C+1131676]\n",
      "\tOrdinal0 [0x00744812+1198098]\n",
      "\tOrdinal0 [0x007342B6+1131190]\n",
      "\tOrdinal0 [0x0070E860+976992]\n",
      "\tOrdinal0 [0x0070F756+980822]\n",
      "\tGetHandleVerifier [0x00ADCC62+2510274]\n",
      "\tGetHandleVerifier [0x00ACF760+2455744]\n",
      "\tGetHandleVerifier [0x008FEABA+551962]\n",
      "\tGetHandleVerifier [0x008FD916+547446]\n",
      "\tOrdinal0 [0x00805F3B+1990459]\n",
      "\tOrdinal0 [0x0080A898+2009240]\n",
      "\tOrdinal0 [0x0080A985+2009477]\n",
      "\tOrdinal0 [0x00813AD1+2046673]\n",
      "\tBaseThreadInitThunk [0x75F1FA29+25]\n",
      "\tRtlGetAppContainerNamedObjectPath [0x770F7A7E+286]\n",
      "\tRtlGetAppContainerNamedObjectPath [0x770F7A4E+238]\n",
      "\n"
     ]
    },
    {
     "name": "stdout",
     "output_type": "stream",
     "text": [
      "[ON_ERROR] Message: javascript error: Cannot read properties of null (reading 'scrollIntoView')\n",
      "  (Session info: headless chrome=102.0.5005.63)\n",
      "Stacktrace:\n",
      "Backtrace:\n",
      "\tOrdinal0 [0x0086D953+2414931]\n",
      "\tOrdinal0 [0x007FF5E1+1963489]\n",
      "\tOrdinal0 [0x006EC6B8+837304]\n",
      "\tOrdinal0 [0x006EF0B4+848052]\n",
      "\tOrdinal0 [0x006EEF72+847730]\n",
      "\tOrdinal0 [0x006EF8EA+850154]\n",
      "\tOrdinal0 [0x00745249+1200713]\n",
      "\tOrdinal0 [0x0073449C+1131676]\n",
      "\tOrdinal0 [0x00744812+1198098]\n",
      "\tOrdinal0 [0x007342B6+1131190]\n",
      "\tOrdinal0 [0x0070E860+976992]\n",
      "\tOrdinal0 [0x0070F756+980822]\n",
      "\tGetHandleVerifier [0x00ADCC62+2510274]\n",
      "\tGetHandleVerifier [0x00ACF760+2455744]\n",
      "\tGetHandleVerifier [0x008FEABA+551962]\n",
      "\tGetHandleVerifier [0x008FD916+547446]\n",
      "\tOrdinal0 [0x00805F3B+1990459]\n",
      "\tOrdinal0 [0x0080A898+2009240]\n",
      "\tOrdinal0 [0x0080A985+2009477]\n",
      "\tOrdinal0 [0x00813AD1+2046673]\n",
      "\tBaseThreadInitThunk [0x75F1FA29+25]\n",
      "\tRtlGetAppContainerNamedObjectPath [0x770F7A7E+286]\n",
      "\tRtlGetAppContainerNamedObjectPath [0x770F7A4E+238]\n",
      "\n",
      "Traceback (most recent call last):\n",
      "  File \"C:\\Users\\Windows 10\\anaconda3\\lib\\site-packages\\linkedin_jobs_scraper\\strategies\\anonymous_strategy.py\", line 294, in run\n",
      "    selectors.dates)\n",
      "  File \"C:\\Users\\Windows 10\\anaconda3\\lib\\site-packages\\selenium\\webdriver\\remote\\webdriver.py\", line 886, in execute_script\n",
      "    'args': converted_args})['value']\n",
      "  File \"C:\\Users\\Windows 10\\anaconda3\\lib\\site-packages\\selenium\\webdriver\\remote\\webdriver.py\", line 430, in execute\n",
      "    self.error_handler.check_response(response)\n",
      "  File \"C:\\Users\\Windows 10\\anaconda3\\lib\\site-packages\\selenium\\webdriver\\remote\\errorhandler.py\", line 247, in check_response\n",
      "    raise exception_class(message, screen, stacktrace)\n",
      "selenium.common.exceptions.JavascriptException: Message: javascript error: Cannot read properties of null (reading 'scrollIntoView')\n",
      "  (Session info: headless chrome=102.0.5005.63)\n",
      "Stacktrace:\n",
      "Backtrace:\n",
      "\tOrdinal0 [0x0086D953+2414931]\n",
      "\tOrdinal0 [0x007FF5E1+1963489]\n",
      "\tOrdinal0 [0x006EC6B8+837304]\n",
      "\tOrdinal0 [0x006EF0B4+848052]\n",
      "\tOrdinal0 [0x006EEF72+847730]\n",
      "\tOrdinal0 [0x006EF8EA+850154]\n",
      "\tOrdinal0 [0x00745249+1200713]\n",
      "\tOrdinal0 [0x0073449C+1131676]\n",
      "\tOrdinal0 [0x00744812+1198098]\n",
      "\tOrdinal0 [0x007342B6+1131190]\n",
      "\tOrdinal0 [0x0070E860+976992]\n",
      "\tOrdinal0 [0x0070F756+980822]\n",
      "\tGetHandleVerifier [0x00ADCC62+2510274]\n",
      "\tGetHandleVerifier [0x00ACF760+2455744]\n",
      "\tGetHandleVerifier [0x008FEABA+551962]\n",
      "\tGetHandleVerifier [0x008FD916+547446]\n",
      "\tOrdinal0 [0x00805F3B+1990459]\n",
      "\tOrdinal0 [0x0080A898+2009240]\n",
      "\tOrdinal0 [0x0080A985+2009477]\n",
      "\tOrdinal0 [0x00813AD1+2046673]\n",
      "\tBaseThreadInitThunk [0x75F1FA29+25]\n",
      "\tRtlGetAppContainerNamedObjectPath [0x770F7A7E+286]\n",
      "\tRtlGetAppContainerNamedObjectPath [0x770F7A4E+238]\n",
      "\n",
      "\n"
     ]
    },
    {
     "name": "stderr",
     "output_type": "stream",
     "text": [
      "INFO:li:scraper:('[Linguist][Worldwide][8]', 'Processed')\n"
     ]
    },
    {
     "name": "stdout",
     "output_type": "stream",
     "text": [
      "[ON_DATA] Designer Lead (Content Design Lead) Walmart  2022-06-03 https://www.linkedin.com/jobs/view/designer-lead-content-design-lead-at-walmart-3107442713?refId=OuHBwOojc0%2FyMDwpdecLIg%3D%3D&trackingId=c4K1NLonKktGqQ%2Flq5b%2BVw%3D%3D&position=9&pageNum=0&trk=public_jobs_jserp-result_search-card [] 5988\n"
     ]
    },
    {
     "name": "stderr",
     "output_type": "stream",
     "text": [
      "INFO:li:scraper:('[Linguist][Worldwide][9]', 'Processed')\n"
     ]
    },
    {
     "name": "stdout",
     "output_type": "stream",
     "text": [
      "[ON_DATA] Mitarbeiter/in Herstellung / Medienkauffrau/-mann / Verlagswesen / Linguist (m/w/d) Verlag Dr. Otto Schmidt  2022-06-03 https://de.linkedin.com/jobs/view/mitarbeiter-in-herstellung-medienkauffrau-mann-verlagswesen-linguist-m-w-d-at-verlag-dr-otto-schmidt-3108359276?refId=OuHBwOojc0%2FyMDwpdecLIg%3D%3D&trackingId=MT63E6GmNLaKbVES%2B%2Bwf7Q%3D%3D&position=10&pageNum=0&trk=public_jobs_jserp-result_search-card [] 2190\n"
     ]
    },
    {
     "name": "stderr",
     "output_type": "stream",
     "text": [
      "INFO:li:scraper:('[Linguist][Worldwide][10]', 'Processed')\n"
     ]
    },
    {
     "name": "stdout",
     "output_type": "stream",
     "text": [
      "[ON_DATA] IT - Technology Analyst | UI & Markup Language | Javascript Technology Analyst | UI & Markup Language | Javascript Expedite Technology Solutions LLC  2022-06-03 https://www.linkedin.com/jobs/view/it-technology-analyst-ui-markup-language-javascript-technology-analyst-ui-markup-language-javascript-at-expedite-technology-solutions-llc-3101451429?refId=OuHBwOojc0%2FyMDwpdecLIg%3D%3D&trackingId=%2BiapZNfylKoSoYX2nUbf7A%3D%3D&position=11&pageNum=0&trk=public_jobs_jserp-result_search-card [] 540\n"
     ]
    },
    {
     "name": "stderr",
     "output_type": "stream",
     "text": [
      "INFO:li:scraper:('[Linguist][Worldwide][11]', 'Processed')\n"
     ]
    },
    {
     "name": "stdout",
     "output_type": "stream",
     "text": [
      "[ON_DATA] SIGINT Advisor SAIC  2022-05-25 https://www.linkedin.com/jobs/view/sigint-advisor-at-saic-3094657922?refId=OuHBwOojc0%2FyMDwpdecLIg%3D%3D&trackingId=VEN16AeBu1yTaxNZgbdpfw%3D%3D&position=12&pageNum=0&trk=public_jobs_jserp-result_search-card [] 4274\n"
     ]
    },
    {
     "name": "stderr",
     "output_type": "stream",
     "text": [
      "INFO:li:scraper:('[Linguist][Worldwide][12]', 'Processed')\n"
     ]
    },
    {
     "name": "stdout",
     "output_type": "stream",
     "text": [
      "[ON_DATA] Russian Toponymist - TS/SCI Required Leidos  2022-06-08 https://www.linkedin.com/jobs/view/russian-toponymist-ts-sci-required-at-leidos-3115615158?refId=OuHBwOojc0%2FyMDwpdecLIg%3D%3D&trackingId=M%2BNRJi%2FVcv%2BcGkm1dPFGCg%3D%3D&position=13&pageNum=0&trk=public_jobs_jserp-result_search-card [] 3431\n"
     ]
    },
    {
     "name": "stderr",
     "output_type": "stream",
     "text": [
      "WARNING:li:scraper:('[Linguist][Worldwide]', '[429] Too many requests', 'You should probably increase scraper \"slow_mo\" value or reduce concurrency')\n",
      "INFO:li:scraper:('[Linguist][Worldwide][13]', 'Processed')\n"
     ]
    },
    {
     "name": "stdout",
     "output_type": "stream",
     "text": [
      "[ON_DATA] Artificial Intelligence Solutions Manager - Natural Language Processing Wells Fargo  2022-06-10 https://www.linkedin.com/jobs/view/artificial-intelligence-solutions-manager-natural-language-processing-at-wells-fargo-3120884634?refId=OuHBwOojc0%2FyMDwpdecLIg%3D%3D&trackingId=ig%2FO9%2BRHBiCC5ZGxfzLoyA%3D%3D&position=14&pageNum=0&trk=public_jobs_jserp-result_search-card [] 5990\n"
     ]
    },
    {
     "name": "stderr",
     "output_type": "stream",
     "text": [
      "WARNING:li:scraper:('[Linguist][Worldwide]', '[429] Too many requests', 'You should probably increase scraper \"slow_mo\" value or reduce concurrency')\n",
      "WARNING:li:scraper:('[Linguist][Worldwide]', '[429] Too many requests', 'You should probably increase scraper \"slow_mo\" value or reduce concurrency')\n",
      "ERROR:li:scraper:('[Linguist][Worldwide][14]', 'Timeout on loading job details')\n",
      "NoneType: None\n",
      "INFO:li:scraper:('[Linguist][Worldwide][14]', 'Processed')\n"
     ]
    },
    {
     "name": "stdout",
     "output_type": "stream",
     "text": [
      "[ON_DATA] Head of French / Head of MFL, CLARUS EDUCATION Guardian Jobs  2022-06-10 https://uk.linkedin.com/jobs/view/head-of-french-head-of-mfl-clarus-education-at-guardian-jobs-3120104946?refId=OuHBwOojc0%2FyMDwpdecLIg%3D%3D&trackingId=LNT9hIEYLYFqrVla0NIzZQ%3D%3D&position=16&pageNum=0&trk=public_jobs_jserp-result_search-card [] 3541\n"
     ]
    },
    {
     "name": "stderr",
     "output_type": "stream",
     "text": [
      "INFO:li:scraper:('[Linguist][Worldwide][15]', 'Processed')\n"
     ]
    },
    {
     "name": "stdout",
     "output_type": "stream",
     "text": [
      "[ON_DATA] Junior Chinese/Mandarin Cryptologic Language Analyst NSS RPO  2022-05-18 https://www.linkedin.com/jobs/view/junior-chinese-mandarin-cryptologic-language-analyst-at-nss-rpo-3118074818?refId=OuHBwOojc0%2FyMDwpdecLIg%3D%3D&trackingId=q7LTgTx%2BpfJtNwi1J8BRLQ%3D%3D&position=17&pageNum=0&trk=public_jobs_jserp-result_search-card [] 2521\n"
     ]
    },
    {
     "name": "stderr",
     "output_type": "stream",
     "text": [
      "INFO:li:scraper:('[Linguist][Worldwide][16]', 'Processed')\n"
     ]
    },
    {
     "name": "stdout",
     "output_type": "stream",
     "text": [
      "[ON_DATA] Computational Linguist Megaputer Intelligence Inc.  2022-06-03 https://www.linkedin.com/jobs/view/computational-linguist-at-megaputer-intelligence-inc-3108361743?refId=OuHBwOojc0%2FyMDwpdecLIg%3D%3D&trackingId=fcEZvsaAHWqwngx9Zae4aA%3D%3D&position=18&pageNum=0&trk=public_jobs_jserp-result_search-card [] 3571\n"
     ]
    },
    {
     "name": "stderr",
     "output_type": "stream",
     "text": [
      "INFO:li:scraper:('[Linguist][Worldwide][17]', 'Processed')\n"
     ]
    },
    {
     "name": "stdout",
     "output_type": "stream",
     "text": [
      "[ON_DATA] Spanish Linguist - Mexico TransPerfect  2022-05-16 https://mx.linkedin.com/jobs/view/spanish-linguist-mexico-at-transperfect-3078116117?refId=OuHBwOojc0%2FyMDwpdecLIg%3D%3D&trackingId=rLtXSwmv905zmLFJr%2Fvr2w%3D%3D&position=19&pageNum=0&trk=public_jobs_jserp-result_search-card [] 1467\n"
     ]
    },
    {
     "name": "stderr",
     "output_type": "stream",
     "text": [
      "INFO:li:scraper:('[Linguist][Worldwide][18]', 'Processed')\n"
     ]
    },
    {
     "name": "stdout",
     "output_type": "stream",
     "text": [
      "[ON_DATA] Enterprise Language Preference Center of Excellence Manager Truist  2022-06-03 https://www.linkedin.com/jobs/view/enterprise-language-preference-center-of-excellence-manager-at-truist-3108727109?refId=OuHBwOojc0%2FyMDwpdecLIg%3D%3D&trackingId=D1CXRmGkeR9EtXhKGeisUQ%3D%3D&position=20&pageNum=0&trk=public_jobs_jserp-result_search-card [] 6102\n"
     ]
    },
    {
     "name": "stderr",
     "output_type": "stream",
     "text": [
      "WARNING:li:scraper:('[Linguist][Worldwide]', '[429] Too many requests', 'You should probably increase scraper \"slow_mo\" value or reduce concurrency')\n",
      "WARNING:li:scraper:('[Linguist][Worldwide]', '[429] Too many requests', 'You should probably increase scraper \"slow_mo\" value or reduce concurrency')\n",
      "ERROR:li:scraper:('[Linguist][Worldwide][19]', 'Timeout on loading job details')\n",
      "NoneType: None\n",
      "INFO:li:scraper:('[Linguist][Worldwide][19]', 'Processed')\n"
     ]
    },
    {
     "name": "stdout",
     "output_type": "stream",
     "text": [
      "[ON_DATA] Pigistes - Rédacteur/Correcteur/Traducteur | Freelancers - Copywriter/Proofer/Translator Bloom | Digital Marketing Agency  2022-05-20 https://ca.linkedin.com/jobs/view/pigistes-r%C3%A9dacteur-correcteur-traducteur%C2%A0-freelancers-copywriter-proofer-translator-at-bloom-digital-marketing-agency-3111438333?refId=OuHBwOojc0%2FyMDwpdecLIg%3D%3D&trackingId=NrDDS3Oc1w3%2FaaiZjZ5Mmg%3D%3D&position=22&pageNum=0&trk=public_jobs_jserp-result_search-card [] 818\n"
     ]
    },
    {
     "name": "stderr",
     "output_type": "stream",
     "text": [
      "INFO:li:scraper:('[Linguist][Worldwide][20]', 'Processed')\n"
     ]
    },
    {
     "name": "stdout",
     "output_type": "stream",
     "text": [
      "[ON_DATA] Traducteur Senior - Senior Translator EY  2022-06-13 https://ca.linkedin.com/jobs/view/traducteur-senior-senior-translator-at-ey-2812784477?refId=OuHBwOojc0%2FyMDwpdecLIg%3D%3D&trackingId=S0BMSl4SGLTXgPMiXZSPfA%3D%3D&position=23&pageNum=0&trk=public_jobs_jserp-result_search-card [] 5669\n"
     ]
    },
    {
     "name": "stderr",
     "output_type": "stream",
     "text": [
      "INFO:li:scraper:('[Linguist][Worldwide][21]', 'Processed')\n"
     ]
    },
    {
     "name": "stdout",
     "output_type": "stream",
     "text": [
      "[ON_DATA] TS/SCI Cleared Operational Language Analyst with Native Capability JTG, inc.  2022-05-15 https://www.linkedin.com/jobs/view/ts-sci-cleared-operational-language-analyst-with-native-capability-at-jtg-inc-3110681615?refId=OuHBwOojc0%2FyMDwpdecLIg%3D%3D&trackingId=4FMYaynF9iC0vGOEarG0sg%3D%3D&position=24&pageNum=0&trk=public_jobs_jserp-result_search-card [] 4207\n"
     ]
    },
    {
     "name": "stderr",
     "output_type": "stream",
     "text": [
      "INFO:li:scraper:('[Linguist][Worldwide][22]', 'Processed')\n"
     ]
    },
    {
     "name": "stdout",
     "output_type": "stream",
     "text": [
      "[ON_DATA] French Language Summer Camp Waterfront Manager Concordia College  2022-05-15 https://www.linkedin.com/jobs/view/french-language-summer-camp-waterfront-manager-at-concordia-college-3111672527?refId=OuHBwOojc0%2FyMDwpdecLIg%3D%3D&trackingId=DYP%2FPgBvh9I%2F2klVzPIuLg%3D%3D&position=25&pageNum=0&trk=public_jobs_jserp-result_search-card [] 3494\n"
     ]
    },
    {
     "name": "stderr",
     "output_type": "stream",
     "text": [
      "INFO:li:scraper:('[Linguist][Worldwide][23]', 'Processed')\n"
     ]
    },
    {
     "name": "stdout",
     "output_type": "stream",
     "text": [
      "[ON_DATA] IT - Technology Analyst | UI & Markup Language | Javascript Technology Analyst | UI & Markup Language | Javascript Expedite Technology Solutions LLC  2022-05-28 https://www.linkedin.com/jobs/view/it-technology-analyst-ui-markup-language-javascript-technology-analyst-ui-markup-language-javascript-at-expedite-technology-solutions-llc-3091254992?refId=sLVlPiNselr5%2FH6GJIABcg%3D%3D&trackingId=Mpafg5Z5zCpfyacKZjb9TA%3D%3D&position=1&pageNum=1&trk=public_jobs_jserp-result_search-card [] 2505\n"
     ]
    },
    {
     "name": "stderr",
     "output_type": "stream",
     "text": [
      "INFO:li:scraper:('[Linguist][Worldwide][24]', 'Processed')\n"
     ]
    },
    {
     "name": "stdout",
     "output_type": "stream",
     "text": [
      "[ON_DATA] Senior Translator EY  2022-05-26 https://ca.linkedin.com/jobs/view/senior-translator-at-ey-2821906742?refId=sLVlPiNselr5%2FH6GJIABcg%3D%3D&trackingId=lj%2FV1coGaCKJKXDv0AvO%2Fw%3D%3D&position=2&pageNum=1&trk=public_jobs_jserp-result_search-card [] 5708\n"
     ]
    },
    {
     "name": "stderr",
     "output_type": "stream",
     "text": [
      "INFO:li:scraper:('[Linguist][Worldwide][25]', 'Processed')\n"
     ]
    },
    {
     "name": "stdout",
     "output_type": "stream",
     "text": [
      "[ON_DATA] Junior Talent Manager ALM Translations  2022-06-10 https://uk.linkedin.com/jobs/view/junior-talent-manager-at-alm-translations-3116602313?refId=sLVlPiNselr5%2FH6GJIABcg%3D%3D&trackingId=JsiZgV2CDwS%2Fili%2F19gvYQ%3D%3D&position=3&pageNum=1&trk=public_jobs_jserp-result_search-card [] 3137\n",
      "[ON_END]\n"
     ]
    }
   ],
   "source": [
    "import logging\n",
    "from linkedin_jobs_scraper import LinkedinScraper\n",
    "from linkedin_jobs_scraper.events import Events, EventData\n",
    "from linkedin_jobs_scraper.query import Query, QueryOptions, QueryFilters\n",
    "from linkedin_jobs_scraper.filters import RelevanceFilters, TimeFilters, TypeFilters, ExperienceLevelFilters, RemoteFilters\n",
    "\n",
    "# Change root logger level (default is WARN)\n",
    "logging.basicConfig(level = logging.INFO)\n",
    "\n",
    "data_dict = dict()\n",
    "\n",
    "def on_data(data: EventData):\n",
    "    print('[ON_DATA]', data.title, data.company, data.company_link, data.date, data.link, data.insights, len(data.description))\n",
    "    data_dict[data.title] = {'company':data.company,\n",
    "                             'company_link':data.company_link,\n",
    "                             'date':data.date,\n",
    "                             'link':data.link,\n",
    "                             'insights':data.insights}\n",
    "\n",
    "def on_error(error):\n",
    "    print('[ON_ERROR]', error)\n",
    "\n",
    "def on_end():\n",
    "    print('[ON_END]')\n",
    "\n",
    "scraper = LinkedinScraper(\n",
    "    chrome_executable_path='./chromedriver.exe', # Custom Chrome executable path (e.g. /foo/bar/bin/chromedriver) \n",
    "    chrome_options=None,  # Custom Chrome options here\n",
    "    headless=True,  # Overrides headless mode only if chrome_options is None\n",
    "    max_workers=1,  # How many threads will be spawned to run queries concurrently (one Chrome driver for each thread)\n",
    "    slow_mo=2,  # Slow down the scraper to avoid 'Too many requests 429' errors (in seconds)\n",
    ")\n",
    "\n",
    "# Add event listeners\n",
    "scraper.on(Events.DATA, on_data)\n",
    "scraper.on(Events.ERROR, on_error)\n",
    "scraper.on(Events.END, on_end)\n",
    "\n",
    "queries = [\n",
    "    Query(\n",
    "        query='Linguist',\n",
    "        options=QueryOptions(\n",
    "            optimize=False,\n",
    "            apply_link = True,  # Try to extract apply link (slower because it needs to open a new tab for each job). Default to false\n",
    "            #limit=5,\n",
    "            filters=QueryFilters(              \n",
    "                relevance=RelevanceFilters.RECENT,\n",
    "                time=TimeFilters.MONTH             \n",
    "            )\n",
    "        )\n",
    "    ),\n",
    "]\n",
    "\n",
    "scraper.run(queries)"
   ]
  },
  {
   "cell_type": "code",
   "execution_count": null,
   "metadata": {},
   "outputs": [],
   "source": []
  },
  {
   "cell_type": "code",
   "execution_count": 35,
   "metadata": {},
   "outputs": [
    {
     "data": {
      "text/html": [
       "<div>\n",
       "<style scoped>\n",
       "    .dataframe tbody tr th:only-of-type {\n",
       "        vertical-align: middle;\n",
       "    }\n",
       "\n",
       "    .dataframe tbody tr th {\n",
       "        vertical-align: top;\n",
       "    }\n",
       "\n",
       "    .dataframe thead th {\n",
       "        text-align: right;\n",
       "    }\n",
       "</style>\n",
       "<table border=\"1\" class=\"dataframe\">\n",
       "  <thead>\n",
       "    <tr style=\"text-align: right;\">\n",
       "      <th></th>\n",
       "      <th>company</th>\n",
       "      <th>company_link</th>\n",
       "      <th>date</th>\n",
       "      <th>link</th>\n",
       "      <th>insights</th>\n",
       "    </tr>\n",
       "  </thead>\n",
       "  <tbody>\n",
       "    <tr>\n",
       "      <th>Japanese Language Manager</th>\n",
       "      <td>PERSOL CAREER BRS (Bilingual Recruitment Solut...</td>\n",
       "      <td></td>\n",
       "      <td>2022-05-16</td>\n",
       "      <td>https://jp.linkedin.com/jobs/view/japanese-lan...</td>\n",
       "      <td>[]</td>\n",
       "    </tr>\n",
       "    <tr>\n",
       "      <th>Lead Product Owner</th>\n",
       "      <td>Apex Systems</td>\n",
       "      <td></td>\n",
       "      <td>2022-05-24</td>\n",
       "      <td>https://www.linkedin.com/jobs/view/lead-produc...</td>\n",
       "      <td>[]</td>\n",
       "    </tr>\n",
       "    <tr>\n",
       "      <th>Public Affairs Support Manager (Language Services)</th>\n",
       "      <td>The Hong Kong Jockey Club</td>\n",
       "      <td></td>\n",
       "      <td>2022-05-26</td>\n",
       "      <td>https://hk.linkedin.com/jobs/view/public-affai...</td>\n",
       "      <td>[]</td>\n",
       "    </tr>\n",
       "    <tr>\n",
       "      <th>INTEL Group Hiring Event</th>\n",
       "      <td>Leidos</td>\n",
       "      <td></td>\n",
       "      <td>2022-06-03</td>\n",
       "      <td>https://www.linkedin.com/jobs/view/intel-group...</td>\n",
       "      <td>[]</td>\n",
       "    </tr>\n",
       "    <tr>\n",
       "      <th>Business Planning Analyst (Japanese language Requirement) (Contract)</th>\n",
       "      <td>Honda of America Mfg., Inc.</td>\n",
       "      <td></td>\n",
       "      <td>2022-06-03</td>\n",
       "      <td>https://www.linkedin.com/jobs/view/business-pl...</td>\n",
       "      <td>[]</td>\n",
       "    </tr>\n",
       "    <tr>\n",
       "      <th>Pashto and Dari Linguist with Security Clearance</th>\n",
       "      <td>ClearanceJobs</td>\n",
       "      <td></td>\n",
       "      <td>2022-06-07</td>\n",
       "      <td>https://www.linkedin.com/jobs/view/pashto-and-...</td>\n",
       "      <td>[]</td>\n",
       "    </tr>\n",
       "    <tr>\n",
       "      <th>Volunteer: BLOOD SERVICES: SPANISH INTERPRETER/TRANSLATOR volunteer for Norfolk County</th>\n",
       "      <td>VolunteerMatch</td>\n",
       "      <td></td>\n",
       "      <td>2022-05-15</td>\n",
       "      <td>https://www.linkedin.com/jobs/view/volunteer-b...</td>\n",
       "      <td>[]</td>\n",
       "    </tr>\n",
       "    <tr>\n",
       "      <th>Designer Lead (Content Design Lead)</th>\n",
       "      <td>Walmart</td>\n",
       "      <td></td>\n",
       "      <td>2022-06-03</td>\n",
       "      <td>https://www.linkedin.com/jobs/view/designer-le...</td>\n",
       "      <td>[]</td>\n",
       "    </tr>\n",
       "    <tr>\n",
       "      <th>Mitarbeiter/in Herstellung / Medienkauffrau/-mann / Verlagswesen / Linguist (m/w/d)</th>\n",
       "      <td>Verlag Dr. Otto Schmidt</td>\n",
       "      <td></td>\n",
       "      <td>2022-06-03</td>\n",
       "      <td>https://de.linkedin.com/jobs/view/mitarbeiter-...</td>\n",
       "      <td>[]</td>\n",
       "    </tr>\n",
       "    <tr>\n",
       "      <th>IT - Technology Analyst | UI &amp; Markup Language | Javascript Technology Analyst | UI &amp; Markup Language | Javascript</th>\n",
       "      <td>Expedite Technology Solutions LLC</td>\n",
       "      <td></td>\n",
       "      <td>2022-05-28</td>\n",
       "      <td>https://www.linkedin.com/jobs/view/it-technolo...</td>\n",
       "      <td>[]</td>\n",
       "    </tr>\n",
       "    <tr>\n",
       "      <th>SIGINT Advisor</th>\n",
       "      <td>SAIC</td>\n",
       "      <td></td>\n",
       "      <td>2022-05-25</td>\n",
       "      <td>https://www.linkedin.com/jobs/view/sigint-advi...</td>\n",
       "      <td>[]</td>\n",
       "    </tr>\n",
       "    <tr>\n",
       "      <th>Russian Toponymist - TS/SCI Required</th>\n",
       "      <td>Leidos</td>\n",
       "      <td></td>\n",
       "      <td>2022-06-08</td>\n",
       "      <td>https://www.linkedin.com/jobs/view/russian-top...</td>\n",
       "      <td>[]</td>\n",
       "    </tr>\n",
       "    <tr>\n",
       "      <th>Artificial Intelligence Solutions Manager - Natural Language Processing</th>\n",
       "      <td>Wells Fargo</td>\n",
       "      <td></td>\n",
       "      <td>2022-06-10</td>\n",
       "      <td>https://www.linkedin.com/jobs/view/artificial-...</td>\n",
       "      <td>[]</td>\n",
       "    </tr>\n",
       "    <tr>\n",
       "      <th>Head of French / Head of MFL, CLARUS EDUCATION</th>\n",
       "      <td>Guardian Jobs</td>\n",
       "      <td></td>\n",
       "      <td>2022-06-10</td>\n",
       "      <td>https://uk.linkedin.com/jobs/view/head-of-fren...</td>\n",
       "      <td>[]</td>\n",
       "    </tr>\n",
       "    <tr>\n",
       "      <th>Junior Chinese/Mandarin Cryptologic Language Analyst</th>\n",
       "      <td>NSS RPO</td>\n",
       "      <td></td>\n",
       "      <td>2022-05-18</td>\n",
       "      <td>https://www.linkedin.com/jobs/view/junior-chin...</td>\n",
       "      <td>[]</td>\n",
       "    </tr>\n",
       "    <tr>\n",
       "      <th>Computational Linguist</th>\n",
       "      <td>Megaputer Intelligence Inc.</td>\n",
       "      <td></td>\n",
       "      <td>2022-06-03</td>\n",
       "      <td>https://www.linkedin.com/jobs/view/computation...</td>\n",
       "      <td>[]</td>\n",
       "    </tr>\n",
       "    <tr>\n",
       "      <th>Spanish Linguist - Mexico</th>\n",
       "      <td>TransPerfect</td>\n",
       "      <td></td>\n",
       "      <td>2022-05-16</td>\n",
       "      <td>https://mx.linkedin.com/jobs/view/spanish-ling...</td>\n",
       "      <td>[]</td>\n",
       "    </tr>\n",
       "    <tr>\n",
       "      <th>Enterprise Language Preference Center of Excellence Manager</th>\n",
       "      <td>Truist</td>\n",
       "      <td></td>\n",
       "      <td>2022-06-03</td>\n",
       "      <td>https://www.linkedin.com/jobs/view/enterprise-...</td>\n",
       "      <td>[]</td>\n",
       "    </tr>\n",
       "    <tr>\n",
       "      <th>Pigistes - Rédacteur/Correcteur/Traducteur | Freelancers - Copywriter/Proofer/Translator</th>\n",
       "      <td>Bloom | Digital Marketing Agency</td>\n",
       "      <td></td>\n",
       "      <td>2022-05-20</td>\n",
       "      <td>https://ca.linkedin.com/jobs/view/pigistes-r%C...</td>\n",
       "      <td>[]</td>\n",
       "    </tr>\n",
       "    <tr>\n",
       "      <th>Traducteur Senior - Senior Translator</th>\n",
       "      <td>EY</td>\n",
       "      <td></td>\n",
       "      <td>2022-06-13</td>\n",
       "      <td>https://ca.linkedin.com/jobs/view/traducteur-s...</td>\n",
       "      <td>[]</td>\n",
       "    </tr>\n",
       "    <tr>\n",
       "      <th>TS/SCI Cleared Operational Language Analyst with Native Capability</th>\n",
       "      <td>JTG, inc.</td>\n",
       "      <td></td>\n",
       "      <td>2022-05-15</td>\n",
       "      <td>https://www.linkedin.com/jobs/view/ts-sci-clea...</td>\n",
       "      <td>[]</td>\n",
       "    </tr>\n",
       "    <tr>\n",
       "      <th>French Language Summer Camp Waterfront Manager</th>\n",
       "      <td>Concordia College</td>\n",
       "      <td></td>\n",
       "      <td>2022-05-15</td>\n",
       "      <td>https://www.linkedin.com/jobs/view/french-lang...</td>\n",
       "      <td>[]</td>\n",
       "    </tr>\n",
       "    <tr>\n",
       "      <th>Senior Translator</th>\n",
       "      <td>EY</td>\n",
       "      <td></td>\n",
       "      <td>2022-05-26</td>\n",
       "      <td>https://ca.linkedin.com/jobs/view/senior-trans...</td>\n",
       "      <td>[]</td>\n",
       "    </tr>\n",
       "    <tr>\n",
       "      <th>Junior Talent Manager</th>\n",
       "      <td>ALM Translations</td>\n",
       "      <td></td>\n",
       "      <td>2022-06-10</td>\n",
       "      <td>https://uk.linkedin.com/jobs/view/junior-talen...</td>\n",
       "      <td>[]</td>\n",
       "    </tr>\n",
       "  </tbody>\n",
       "</table>\n",
       "</div>"
      ],
      "text/plain": [
       "                                                                                              company  \\\n",
       "Japanese Language Manager                           PERSOL CAREER BRS (Bilingual Recruitment Solut...   \n",
       "Lead Product Owner                                                                       Apex Systems   \n",
       "Public Affairs Support Manager (Language Services)                          The Hong Kong Jockey Club   \n",
       "INTEL Group Hiring Event                                                                       Leidos   \n",
       "Business Planning Analyst (Japanese language Re...                        Honda of America Mfg., Inc.   \n",
       "Pashto and Dari Linguist with Security Clearance                                        ClearanceJobs   \n",
       "Volunteer: BLOOD SERVICES: SPANISH INTERPRETER/...                                     VolunteerMatch   \n",
       "Designer Lead (Content Design Lead)                                                           Walmart   \n",
       "Mitarbeiter/in Herstellung / Medienkauffrau/-ma...                            Verlag Dr. Otto Schmidt   \n",
       "IT - Technology Analyst | UI & Markup Language ...                  Expedite Technology Solutions LLC   \n",
       "SIGINT Advisor                                                                                   SAIC   \n",
       "Russian Toponymist - TS/SCI Required                                                           Leidos   \n",
       "Artificial Intelligence Solutions Manager - Nat...                                        Wells Fargo   \n",
       "Head of French / Head of MFL, CLARUS EDUCATION                                          Guardian Jobs   \n",
       "Junior Chinese/Mandarin Cryptologic Language An...                                            NSS RPO   \n",
       "Computational Linguist                                                    Megaputer Intelligence Inc.   \n",
       "Spanish Linguist - Mexico                                                                TransPerfect   \n",
       "Enterprise Language Preference Center of Excell...                                             Truist   \n",
       "Pigistes - Rédacteur/Correcteur/Traducteur | Fr...                   Bloom | Digital Marketing Agency   \n",
       "Traducteur Senior - Senior Translator                                                              EY   \n",
       "TS/SCI Cleared Operational Language Analyst wit...                                          JTG, inc.   \n",
       "French Language Summer Camp Waterfront Manager                                      Concordia College   \n",
       "Senior Translator                                                                                  EY   \n",
       "Junior Talent Manager                                                                ALM Translations   \n",
       "\n",
       "                                                   company_link        date  \\\n",
       "Japanese Language Manager                                        2022-05-16   \n",
       "Lead Product Owner                                               2022-05-24   \n",
       "Public Affairs Support Manager (Language Services)               2022-05-26   \n",
       "INTEL Group Hiring Event                                         2022-06-03   \n",
       "Business Planning Analyst (Japanese language Re...               2022-06-03   \n",
       "Pashto and Dari Linguist with Security Clearance                 2022-06-07   \n",
       "Volunteer: BLOOD SERVICES: SPANISH INTERPRETER/...               2022-05-15   \n",
       "Designer Lead (Content Design Lead)                              2022-06-03   \n",
       "Mitarbeiter/in Herstellung / Medienkauffrau/-ma...               2022-06-03   \n",
       "IT - Technology Analyst | UI & Markup Language ...               2022-05-28   \n",
       "SIGINT Advisor                                                   2022-05-25   \n",
       "Russian Toponymist - TS/SCI Required                             2022-06-08   \n",
       "Artificial Intelligence Solutions Manager - Nat...               2022-06-10   \n",
       "Head of French / Head of MFL, CLARUS EDUCATION                   2022-06-10   \n",
       "Junior Chinese/Mandarin Cryptologic Language An...               2022-05-18   \n",
       "Computational Linguist                                           2022-06-03   \n",
       "Spanish Linguist - Mexico                                        2022-05-16   \n",
       "Enterprise Language Preference Center of Excell...               2022-06-03   \n",
       "Pigistes - Rédacteur/Correcteur/Traducteur | Fr...               2022-05-20   \n",
       "Traducteur Senior - Senior Translator                            2022-06-13   \n",
       "TS/SCI Cleared Operational Language Analyst wit...               2022-05-15   \n",
       "French Language Summer Camp Waterfront Manager                   2022-05-15   \n",
       "Senior Translator                                                2022-05-26   \n",
       "Junior Talent Manager                                            2022-06-10   \n",
       "\n",
       "                                                                                                 link  \\\n",
       "Japanese Language Manager                           https://jp.linkedin.com/jobs/view/japanese-lan...   \n",
       "Lead Product Owner                                  https://www.linkedin.com/jobs/view/lead-produc...   \n",
       "Public Affairs Support Manager (Language Services)  https://hk.linkedin.com/jobs/view/public-affai...   \n",
       "INTEL Group Hiring Event                            https://www.linkedin.com/jobs/view/intel-group...   \n",
       "Business Planning Analyst (Japanese language Re...  https://www.linkedin.com/jobs/view/business-pl...   \n",
       "Pashto and Dari Linguist with Security Clearance    https://www.linkedin.com/jobs/view/pashto-and-...   \n",
       "Volunteer: BLOOD SERVICES: SPANISH INTERPRETER/...  https://www.linkedin.com/jobs/view/volunteer-b...   \n",
       "Designer Lead (Content Design Lead)                 https://www.linkedin.com/jobs/view/designer-le...   \n",
       "Mitarbeiter/in Herstellung / Medienkauffrau/-ma...  https://de.linkedin.com/jobs/view/mitarbeiter-...   \n",
       "IT - Technology Analyst | UI & Markup Language ...  https://www.linkedin.com/jobs/view/it-technolo...   \n",
       "SIGINT Advisor                                      https://www.linkedin.com/jobs/view/sigint-advi...   \n",
       "Russian Toponymist - TS/SCI Required                https://www.linkedin.com/jobs/view/russian-top...   \n",
       "Artificial Intelligence Solutions Manager - Nat...  https://www.linkedin.com/jobs/view/artificial-...   \n",
       "Head of French / Head of MFL, CLARUS EDUCATION      https://uk.linkedin.com/jobs/view/head-of-fren...   \n",
       "Junior Chinese/Mandarin Cryptologic Language An...  https://www.linkedin.com/jobs/view/junior-chin...   \n",
       "Computational Linguist                              https://www.linkedin.com/jobs/view/computation...   \n",
       "Spanish Linguist - Mexico                           https://mx.linkedin.com/jobs/view/spanish-ling...   \n",
       "Enterprise Language Preference Center of Excell...  https://www.linkedin.com/jobs/view/enterprise-...   \n",
       "Pigistes - Rédacteur/Correcteur/Traducteur | Fr...  https://ca.linkedin.com/jobs/view/pigistes-r%C...   \n",
       "Traducteur Senior - Senior Translator               https://ca.linkedin.com/jobs/view/traducteur-s...   \n",
       "TS/SCI Cleared Operational Language Analyst wit...  https://www.linkedin.com/jobs/view/ts-sci-clea...   \n",
       "French Language Summer Camp Waterfront Manager      https://www.linkedin.com/jobs/view/french-lang...   \n",
       "Senior Translator                                   https://ca.linkedin.com/jobs/view/senior-trans...   \n",
       "Junior Talent Manager                               https://uk.linkedin.com/jobs/view/junior-talen...   \n",
       "\n",
       "                                                   insights  \n",
       "Japanese Language Manager                                []  \n",
       "Lead Product Owner                                       []  \n",
       "Public Affairs Support Manager (Language Services)       []  \n",
       "INTEL Group Hiring Event                                 []  \n",
       "Business Planning Analyst (Japanese language Re...       []  \n",
       "Pashto and Dari Linguist with Security Clearance         []  \n",
       "Volunteer: BLOOD SERVICES: SPANISH INTERPRETER/...       []  \n",
       "Designer Lead (Content Design Lead)                      []  \n",
       "Mitarbeiter/in Herstellung / Medienkauffrau/-ma...       []  \n",
       "IT - Technology Analyst | UI & Markup Language ...       []  \n",
       "SIGINT Advisor                                           []  \n",
       "Russian Toponymist - TS/SCI Required                     []  \n",
       "Artificial Intelligence Solutions Manager - Nat...       []  \n",
       "Head of French / Head of MFL, CLARUS EDUCATION           []  \n",
       "Junior Chinese/Mandarin Cryptologic Language An...       []  \n",
       "Computational Linguist                                   []  \n",
       "Spanish Linguist - Mexico                                []  \n",
       "Enterprise Language Preference Center of Excell...       []  \n",
       "Pigistes - Rédacteur/Correcteur/Traducteur | Fr...       []  \n",
       "Traducteur Senior - Senior Translator                    []  \n",
       "TS/SCI Cleared Operational Language Analyst wit...       []  \n",
       "French Language Summer Camp Waterfront Manager           []  \n",
       "Senior Translator                                        []  \n",
       "Junior Talent Manager                                    []  "
      ]
     },
     "execution_count": 35,
     "metadata": {},
     "output_type": "execute_result"
    }
   ],
   "source": [
    "import pandas as pd\n",
    "\n",
    "df = pd.DataFrame(data_dict).transpose()\n",
    "df"
   ]
  },
  {
   "cell_type": "code",
   "execution_count": null,
   "metadata": {},
   "outputs": [],
   "source": [
    "def get_language():\n",
    "    "
   ]
  },
  {
   "cell_type": "code",
   "execution_count": null,
   "metadata": {},
   "outputs": [],
   "source": []
  },
  {
   "cell_type": "code",
   "execution_count": null,
   "metadata": {},
   "outputs": [],
   "source": []
  },
  {
   "cell_type": "code",
   "execution_count": null,
   "metadata": {},
   "outputs": [],
   "source": []
  },
  {
   "cell_type": "code",
   "execution_count": null,
   "metadata": {},
   "outputs": [],
   "source": []
  }
 ],
 "metadata": {
  "kernelspec": {
   "display_name": "Python 3",
   "language": "python",
   "name": "python3"
  },
  "language_info": {
   "codemirror_mode": {
    "name": "ipython",
    "version": 3
   },
   "file_extension": ".py",
   "mimetype": "text/x-python",
   "name": "python",
   "nbconvert_exporter": "python",
   "pygments_lexer": "ipython3",
   "version": "3.7.6"
  }
 },
 "nbformat": 4,
 "nbformat_minor": 4
}
